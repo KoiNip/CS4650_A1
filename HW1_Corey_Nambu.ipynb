{
 "cells": [
  {
   "cell_type": "code",
   "execution_count": 1,
   "id": "410142fb",
   "metadata": {},
   "outputs": [
    {
     "name": "stdout",
     "output_type": "stream",
     "text": [
      "Overwriting max_min_count_windspeed.py\n"
     ]
    }
   ],
   "source": [
    "%%file max_min_count_windspeed.py\n",
    "from mrjob.job import MRJob\n",
    "\n",
    "#re is used to create a list of numbers we can compare to\n",
    "#val[63,64] is a number that represents quality, we must ensure this number matches one of the numbers in QUALITY_RE\n",
    "import re\n",
    "QUALITY_RE = re.compile(r\"[01459]\")\n",
    "\n",
    "class MaxMinCountWindspeed(MRJob):\n",
    "    def mapper(self, _, line):\n",
    "        val = line.strip()\n",
    "        (wind_dir, temp, q_temp, q_wind_dir) = (val[60:63], val[87:92], val[92:93], val[63:64])\n",
    "        if (temp != \"+9999\" and re.match(QUALITY_RE, q_temp) and wind_dir != \"+999\" and re.match(QUALITY_RE, q_wind_dir)):\n",
    "            yield wind_dir, {\"max\":int(temp), \"min\":int(temp), \"count\":1}\n",
    "\n",
    "    def reducer(self, key, values):\n",
    "        count = 0\n",
    "        max = 0\n",
    "        min = 9999999\n",
    "        for x in values:\n",
    "            if x[\"max\"] > max:\n",
    "                max = x[\"max\"]\n",
    "            if x[\"min\"] < min:\n",
    "                min = x[\"min\"]\n",
    "            count += x[\"count\"]\n",
    "        yield key, {\"low\":min, \"high\": max, \"count\":count}\n",
    "\n",
    "if __name__ == '__main__':\n",
    "    MaxMinCountWindspeed.run()\n",
    "    #May need to add --no-bootstrap-mrjob to command at end to get it to run"
   ]
  },
  {
   "cell_type": "code",
   "execution_count": 2,
   "id": "5cc8229f",
   "metadata": {},
   "outputs": [
    {
     "name": "stdout",
     "output_type": "stream",
     "text": [
      "\"020\"\t{\"low\":-272,\"high\":317,\"count\":582}\n",
      "\"050\"\t{\"low\":-322,\"high\":306,\"count\":1039}\n",
      "\"070\"\t{\"low\":-333,\"high\":278,\"count\":502}\n",
      "\"090\"\t{\"low\":-267,\"high\":272,\"count\":567}\n",
      "\"110\"\t{\"low\":-239,\"high\":278,\"count\":296}\n",
      "\"140\"\t{\"low\":-328,\"high\":278,\"count\":1005}\n",
      "\"160\"\t{\"low\":-239,\"high\":289,\"count\":647}\n",
      "\"180\"\t{\"low\":-250,\"high\":294,\"count\":879}\n",
      "\"200\"\t{\"low\":-183,\"high\":300,\"count\":688}\n",
      "\"230\"\t{\"low\":-228,\"high\":283,\"count\":1488}\n",
      "\"250\"\t{\"low\":-222,\"high\":311,\"count\":604}\n",
      "\"270\"\t{\"low\":-211,\"high\":278,\"count\":931}\n",
      "\"290\"\t{\"low\":-328,\"high\":306,\"count\":379}\n",
      "\"320\"\t{\"low\":-311,\"high\":306,\"count\":1152}\n",
      "\"340\"\t{\"low\":-300,\"high\":311,\"count\":427}\n",
      "\"360\"\t{\"low\":-267,\"high\":289,\"count\":888}\n",
      "\"999\"\t{\"low\":-294,\"high\":294,\"count\":1055}\n"
     ]
    },
    {
     "name": "stderr",
     "output_type": "stream",
     "text": [
      "No configs found; falling back on auto-configuration\n",
      "No configs specified for local runner\n",
      "Creating temp directory C:\\Users\\girki\\AppData\\Local\\Temp\\max_min_count_windspeed.girki.20221012.041352.476977\n",
      "Running step 1 of 1...\n",
      "job output is in C:\\Users\\girki\\AppData\\Local\\Temp\\max_min_count_windspeed.girki.20221012.041352.476977\\output\n",
      "Streaming final output from C:\\Users\\girki\\AppData\\Local\\Temp\\max_min_count_windspeed.girki.20221012.041352.476977\\output...\n",
      "Removing temp directory C:\\Users\\girki\\AppData\\Local\\Temp\\max_min_count_windspeed.girki.20221012.041352.476977...\n"
     ]
    }
   ],
   "source": [
    "!python max_min_count_windspeed.py -r local 1901 1902 --no-bootstrap-mrjob"
   ]
  },
  {
   "cell_type": "code",
   "execution_count": null,
   "id": "0fbf608a",
   "metadata": {},
   "outputs": [],
   "source": []
  }
 ],
 "metadata": {
  "kernelspec": {
   "display_name": "Python 3 (ipykernel)",
   "language": "python",
   "name": "python3"
  },
  "language_info": {
   "codemirror_mode": {
    "name": "ipython",
    "version": 3
   },
   "file_extension": ".py",
   "mimetype": "text/x-python",
   "name": "python",
   "nbconvert_exporter": "python",
   "pygments_lexer": "ipython3",
   "version": "3.10.6"
  }
 },
 "nbformat": 4,
 "nbformat_minor": 5
}
