{
 "cells": [
  {
   "cell_type": "code",
   "execution_count": null,
   "id": "410142fb",
   "metadata": {},
   "outputs": [],
   "source": [
    "%%file max_min_count_windspeed.py\n",
    "from mrjob.job import MRJob\n",
    "\n",
    "#re is used to create a list of numbers we can compare to\n",
    "#val[63,64] is a number that represents quality, we must ensure this number matches one of the numbers in QUALITY_RE\n",
    "import re\n",
    "QUALITY_RE = re.compile(r\"[01459]\")\n",
    "\n",
    "class MaxMinCountWindspeed(MRJob):\n",
    "    def mapper(self, _, line):\n",
    "        val = line.strip()\n",
    "        (wind_dir, temp, q_temp, q_wind_dir) = (val[60:63], val[87:92], val[92:93], val[63:64])\n",
    "        if (temp != \"+9999\" and re.match(QUALITY_RE, q_temp) and wind_dir != \"999\" and re.match(QUALITY_RE, q_wind_dir)):\n",
    "            yield wind_dir, {\"max\":int(temp), \"min\":int(temp), \"count\":1}\n",
    "\n",
    "    def reducer(self, key, values):\n",
    "        count = 0\n",
    "        max = 0\n",
    "        min = 9999999\n",
    "        for x in values:\n",
    "            if x[\"max\"] > max:\n",
    "                max = x[\"max\"]\n",
    "            if x[\"min\"] < min:\n",
    "                min = x[\"min\"]\n",
    "            count += x[\"count\"]\n",
    "        yield key, {\"low\":min, \"high\": max, \"count\":count}\n",
    "\n",
    "if __name__ == '__main__':\n",
    "    MaxMinCountWindspeed.run()\n",
    "    #May need to add --no-bootstrap-mrjob to command at end to get it to run"
   ]
  },
  {
   "cell_type": "code",
   "execution_count": null,
   "id": "5cc8229f",
   "metadata": {},
   "outputs": [],
   "source": [
    "!python max_min_count_windspeed.py -r local 1901 1902 --no-bootstrap-mrjob"
   ]
  },
  {
   "cell_type": "code",
   "execution_count": null,
   "id": "0fbf608a",
   "metadata": {},
   "outputs": [],
   "source": []
  }
 ],
 "metadata": {
  "kernelspec": {
   "display_name": "Python 3 (ipykernel)",
   "language": "python",
   "name": "python3"
  },
  "language_info": {
   "codemirror_mode": {
    "name": "ipython",
    "version": 3
   },
   "file_extension": ".py",
   "mimetype": "text/x-python",
   "name": "python",
   "nbconvert_exporter": "python",
   "pygments_lexer": "ipython3",
   "version": "3.10.6"
  }
 },
 "nbformat": 4,
 "nbformat_minor": 5
}
